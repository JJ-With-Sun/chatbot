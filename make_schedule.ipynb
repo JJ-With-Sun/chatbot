{
 "cells": [
  {
   "cell_type": "code",
   "execution_count": 31,
   "metadata": {},
   "outputs": [],
   "source": [
    "import pandas as pd"
   ]
  },
  {
   "cell_type": "code",
   "execution_count": 32,
   "metadata": {},
   "outputs": [],
   "source": [
    "# 여러 사람의 1년 스케줄을 관리하는 데이터 프레임을 생성\n",
    "dictionary = {}\n",
    "dictionary['month'] =['jan', 'feb', 'mar', 'apr', 'may', 'jun', 'jul', 'aug', 'sep', 'oct', 'nov', 'dec']\n",
    "dictionary['date'] = ['1', '2', '3', '4', '5', '6', '7', '8', '9', '10', '11', '12', '13', '14', '15', '16', '17', '18', '19', '20', '21', '22', '23', '24', '25', '26', '27', '28', '29', '30', '31']\n",
    "dictionary['time'] = ['9시에서 12시','1시에서 3시','3시에서 6시']\n",
    "dictionary['name'] = ['kim', 'lee', 'park', 'choi', 'jung', 'kang', 'yoon', 'lim', 'oh', 'ryu', 'han', 'seo']\n",
    "dictionary['schedule'] = ['none','meeting','work','vacation']"
   ]
  },
  {
   "cell_type": "code",
   "execution_count": 33,
   "metadata": {},
   "outputs": [],
   "source": [
    "# name, month, data, time을 키로 하는 \n",
    "schedule = {}\n",
    "import random\n",
    "for i in dictionary['name']:\n",
    "    for j in dictionary['month']:\n",
    "        for k in dictionary['date']:\n",
    "            for l in dictionary['time']:\n",
    "                # schedule을 랜덤으로 생성\n",
    "                if i not in schedule:\n",
    "                    schedule[i] = {}\n",
    "                if j not in schedule[i]:\n",
    "                    schedule[i][j] = {}\n",
    "                if k not in schedule[i][j]:\n",
    "                    schedule[i][j][k] = {}\n",
    "                schedule[i][j][k][l] = random.choice(dictionary['schedule'])"
   ]
  },
  {
   "cell_type": "code",
   "execution_count": 34,
   "metadata": {},
   "outputs": [],
   "source": [
    "import json"
   ]
  },
  {
   "cell_type": "code",
   "execution_count": 35,
   "metadata": {},
   "outputs": [],
   "source": [
    "schedule_json = json.dumps(schedule, indent=4)"
   ]
  },
  {
   "cell_type": "code",
   "execution_count": 36,
   "metadata": {},
   "outputs": [],
   "source": [
    "#json 읽기\n"
   ]
  },
  {
   "cell_type": "code",
   "execution_count": 37,
   "metadata": {},
   "outputs": [],
   "source": [
    "# json 파일로 저장\n",
    "with open('schedule.json', 'w') as file:\n",
    "    file.write(schedule_json)"
   ]
  },
  {
   "cell_type": "code",
   "execution_count": 38,
   "metadata": {},
   "outputs": [],
   "source": [
    "# schedule.json 읽기\n",
    "with open('schedule.json', 'r') as file:\n",
    "    schedule = json.load(file)"
   ]
  },
  {
   "cell_type": "code",
   "execution_count": 39,
   "metadata": {},
   "outputs": [],
   "source": [
    "# kim lee park 3명이 모두 none인 2월 날자, 시간들을 리스트로 출력\n",
    "none_list = []\n",
    "for i in dictionary['date']:\n",
    "    for j in dictionary['time']:\n",
    "        if schedule['kim']['mar'][i][j] == 'none' and schedule['lee']['mar'][i][j] == 'none' and schedule['park']['mar'][i][j] == 'none':\n",
    "            none_list.append((i,j))"
   ]
  },
  {
   "cell_type": "code",
   "execution_count": 40,
   "metadata": {},
   "outputs": [
    {
     "data": {
      "text/plain": [
       "[('7', '1시에서 3시'), ('17', '1시에서 3시')]"
      ]
     },
     "execution_count": 40,
     "metadata": {},
     "output_type": "execute_result"
    }
   ],
   "source": [
    "none_list"
   ]
  },
  {
   "cell_type": "code",
   "execution_count": 41,
   "metadata": {},
   "outputs": [],
   "source": [
    "\n",
    "import datetime\n",
    "\n",
    "# 기본적인 날짜와 시간을 담은 dictionary\n",
    "dictionary = {}\n",
    "dictionary['month'] =['jan', 'feb', 'mar', 'apr', 'may', 'jun', 'jul', 'aug', 'sep', 'oct', 'nov', 'dec']\n",
    "dictionary['date'] = ['1', '2', '3', '4', '5', '6', '7', '8', '9', '10', '11', '12', '13', '14', '15', '16', '17', '18', '19', '20', '21', '22', '23', '24', '25', '26', '27', '28', '29', '30', '31']\n",
    "dictionary['time'] = ['9시에서 12시','1시에서 3시','3시에서 6시']\n",
    "\n",
    "# schedule.json 읽어오기\n",
    "with open('schedule.json', 'r') as file:\n",
    "    schedule = json.load(file)\n",
    "    \n",
    "# 현재 월일 시간을 구하기\n",
    "now = datetime.datetime.now()"
   ]
  },
  {
   "cell_type": "code",
   "execution_count": 42,
   "metadata": {},
   "outputs": [],
   "source": [
    "def none_schedule(name:list = ['kim','lee','park'], month:str = 'mar'):\n",
    "    none_list = []\n",
    "    num = 0\n",
    "    for i in dictionary['date']:\n",
    "        for j in dictionary['time']:\n",
    "            # name에 있는 사람들이 모두 none인 경우 none_list에 추가\n",
    "            for k in name:\n",
    "                if schedule[k][month][i][j] == 'none':\n",
    "                    num += 1\n",
    "            if num == len(name):\n",
    "                none_list.append([i,j])\n",
    "            num = 0\n",
    "    return none_list"
   ]
  },
  {
   "cell_type": "code",
   "execution_count": 43,
   "metadata": {},
   "outputs": [],
   "source": [
    "a = none_schedule(['kim','lee','park'], 'mar')"
   ]
  },
  {
   "cell_type": "code",
   "execution_count": 45,
   "metadata": {},
   "outputs": [
    {
     "data": {
      "text/plain": [
       "[['7', '1시에서 3시'], ['17', '1시에서 3시']]"
      ]
     },
     "execution_count": 45,
     "metadata": {},
     "output_type": "execute_result"
    }
   ],
   "source": [
    "a"
   ]
  },
  {
   "cell_type": "markdown",
   "metadata": {},
   "source": [
    "# chatbot"
   ]
  },
  {
   "cell_type": "code",
   "execution_count": 26,
   "metadata": {},
   "outputs": [],
   "source": [
    "generation_config = {\n",
    "  \"temperature\": 0.3,\n",
    "  \"top_p\": 1,\n",
    "  \"top_k\": 1,\n",
    "  \"max_output_tokens\": 2048\n",
    "}"
   ]
  },
  {
   "cell_type": "code",
   "execution_count": 27,
   "metadata": {},
   "outputs": [],
   "source": [
    "import os\n",
    "from openai import AzureOpenAI\n",
    "import time\n",
    "from dotenv import load_dotenv\n",
    "\n",
    "dotenv_path = '/home/kic/yskids/service/app/credentials/.env'\n",
    "load_dotenv(dotenv_path)\n",
    "\n",
    "\n",
    "class ChatGPTAPI:\n",
    "    def __init__(self, \n",
    "                 generation_config = generation_config, model:str = os.getenv('AZURE_DEPLOYMENT')) -> None:\n",
    "      self.model = model\n",
    "      self.generation_config = generation_config\n",
    "      self.client = AzureOpenAI(api_key = os.getenv('AZURE_API_KEY'),\n",
    "                                api_version = os.getenv('AZURE_API_VERSION'),\n",
    "                                azure_endpoint = os.getenv('AZURE_ENDPOINT')\n",
    "                                )\n",
    "      \n",
    "    def gradings(self, guideline:str, self_introduction_1:str, self_introduction_2:str):\n",
    "      with open('./instructions/grading.txt', 'r') as f:\n",
    "        data = f.read()\n",
    "        data = data.format(guideline=guideline, self_introduction_1=self_introduction_1, self_introduction_2=self_introduction_2)\n",
    "        messages = [{\"role\": \"user\", \"content\": data}]\n",
    "        start = time.time()\n",
    "        response = self.client.chat.completions.create(model=self.model, messages=messages, \n",
    "                                                  temperature = generation_config['temperature'], \n",
    "                                                  top_p = generation_config['top_p'],\n",
    "                                                  max_tokens = generation_config['max_output_tokens'] )\n",
    "        end = time.time()\n",
    "        print(f'generation time: {end-start}')\n",
    "        output = response.choices[0].message.content\n",
    "        return output"
   ]
  },
  {
   "cell_type": "code",
   "execution_count": 28,
   "metadata": {},
   "outputs": [],
   "source": [
    "client = AzureOpenAI(api_key = os.getenv('AZURE_API_KEY'),\n",
    "                        api_version = os.getenv('AZURE_API_VERSION'),\n",
    "                        azure_endpoint = os.getenv('AZURE_ENDPOINT')\n",
    "                        )"
   ]
  },
  {
   "cell_type": "code",
   "execution_count": 30,
   "metadata": {},
   "outputs": [
    {
     "name": "stdout",
     "output_type": "stream",
     "text": [
      "안녕하세요 지원자님, 회사에 관심 가져주셔서 감사합니다. 저희가 진행하려는 신규 프로젝트는 거대 언어 모델을 활용한 회계 전문용어 번역 모델 개발입니다. 이 프로젝트의 목표는 회계 전문용어의 정확하고 효과적인 번역을 위한 언어 모델을 개발하고, 해당 모델을 기반으로 한 어플리케이션을 통해 다국어 환경에서 회계 문서 및 통역에 필요한 텍스트의 자동 번역을 제공하는 것입니다.\n",
      "\n",
      "주요 작업 및 책임으로는 거대 언어 모델의 사전 학습을 수행하고, 회계 전문용어에 대한 특화된 학습 데이터셋을 구축하는 것입니다. 또한, 언어 모델을 기반으로 한 어플리케이션을 설계 및 개발하며, 모델의 정확성 및 안정성을 검증하고 최적화하는 작업이 포함됩니다.\n",
      "\n",
      "이를 위해 사용할 기술로는 최신의 언어 모델 아키텍처를 사용하여 회계 전문 용어에 대한 사전 학습을 수행하고, 강화 학습 및 하이퍼파라미터 최적화(RLHF)를 통해 모델의 정확성을 향상시키며, LangChain 기술을 도입하여 번역 품질을 개선합니다.\n",
      "\n",
      "예상 결과 및 성과로는 회계 전문용어에 대한 효과적이고 정확한 번역 모델의 개발, 다국어 환경에서의 어플리케이션 안정성과 성능 보장, 그리고 RLHF 및 LangChain 기술을 통한 모델의 우수한 학습 및 번역 능력이 있습니다. 프로젝트 진행 중에는 지속적인 테스트와 개선을 통해 사용자 경험을 향상시키고, 최신 언어 모델 기술에 대한 지속적인 업그레이드가 필요할 것으로 예상됩니다.\n",
      "\n",
      "더 필요하신 사안 있으시면, 언제든지 질의 부탁드립니다.\n"
     ]
    }
   ],
   "source": [
    "# ./instruction.txt 파일의 {information} 부분을 ./company_project_info.txt로 채워넣기\n",
    "with open('./instruction.txt', 'r') as f:\n",
    "    data = f.read()\n",
    "with open('./company_project_info.txt', 'r') as f:\n",
    "    company_project_info = f.read()\n",
    "    \n",
    "data = data.format(information=company_project_info, question = '회사에서 하려는 신규 프로젝트에 대해 구체적으로 알려줘.')\n",
    "messages = [{\"role\": \"user\", \"content\": data}]\n",
    "response = client.chat.completions.create(model=os.getenv('AZURE_DEPLOYMENT'), messages=messages, \n",
    "                                            temperature = generation_config['temperature'], \n",
    "                                            top_p = generation_config['top_p'],\n",
    "                                            max_tokens = generation_config['max_output_tokens'] )\n",
    "output = response.choices[0].message.content\n",
    "print(output)"
   ]
  },
  {
   "cell_type": "code",
   "execution_count": null,
   "metadata": {},
   "outputs": [],
   "source": []
  }
 ],
 "metadata": {
  "kernelspec": {
   "display_name": "py38_default",
   "language": "python",
   "name": "python3"
  },
  "language_info": {
   "codemirror_mode": {
    "name": "ipython",
    "version": 3
   },
   "file_extension": ".py",
   "mimetype": "text/x-python",
   "name": "python",
   "nbconvert_exporter": "python",
   "pygments_lexer": "ipython3",
   "version": "3.8.5"
  }
 },
 "nbformat": 4,
 "nbformat_minor": 2
}
